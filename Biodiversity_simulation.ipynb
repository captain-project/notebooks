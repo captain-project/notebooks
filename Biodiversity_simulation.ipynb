{
 "cells": [
  {
   "cell_type": "markdown",
   "metadata": {},
   "source": [
    "# CAPTAIN tutorial – biodiversity simulations\n",
    "\n",
    "\n",
    "After CAPTAIN and its dependencies are installed it can be imported in a Python console using:\n"
   ]
  },
  {
   "cell_type": "code",
   "execution_count": null,
   "metadata": {
    "pycharm": {
     "name": "#%%\n"
    }
   },
   "outputs": [],
   "source": [
    "import os\n",
    "os.chdir(\"path_to_captain_library\")\n",
    "import captain as cn"
   ]
  },
  {
   "cell_type": "markdown",
   "metadata": {
    "pycharm": {
     "name": "#%% md\n"
    }
   },
   "source": [
    "## Simulating a natural system\n",
    "Simulated natural systems are spatial explicit environments containing a number of cells (the smallest spatial units) and a number of species with individuals distributed across the cells. \n",
    "These systems can be used to train model (i.e. optimize the parameters of a conservation policy) and to explore the effects of different policies and different patters of anthropogenic disturbance and climate change on biodiversity and other metrics. To this purpose, natural systems are simulated and stored in pickle files that can be loaded by CAPTAIN for use in a reinforcement learning framework.\n",
    "\n",
    "Pre-simulated datasets are available for [download here](https://zenodo.org/api/files/c4663248-5dc2-4932-9d43-ec0c490595ae/data_dependencies.zip?versionId=d29260c1-7449-4075-aa83-6e32e5f0db7e).\n",
    "Alternatively, a new simulated system can be generated using:"
   ]
  },
  {
   "cell_type": "code",
   "execution_count": null,
   "metadata": {
    "pycharm": {
     "name": "#%%\n"
    }
   },
   "outputs": [],
   "source": [
    "sim_file = cn.init_simulated_system(n_species=25,\n",
    "                                    grid_size=100,\n",
    "                                    cell_capacity=25,\n",
    "                                    out_dir='./sim_data')"
   ]
  },
  {
   "cell_type": "markdown",
   "metadata": {},
   "source": [
    "This will initialize a system of 100 x 100 cells (simulated systems are assumed to be of squared shape) with 50 species and 25 individuals per cell.  While the total number of individuals is fixed and equal to 100 x 100 x 25 (250,000), the number of individuals per species will follow a truncated Weibull distribution. The simulated system is stored in a file (`sim_file`) in the directory specified via the argument `out_dir` (a folder named `pickles` is created automatically to include the simulated datasets).\n",
    "\n",
    "The simulated system can now be embedded in an environment that allows us to simulate the evolution of species ranges and population sizes based on a natural process of birth-death and dispersal and on changes in anthropogenic pressure (disturbance) and climate.\n",
    "This is done using:"
   ]
  },
  {
   "cell_type": "code",
   "execution_count": null,
   "metadata": {
    "pycharm": {
     "name": "#%%\n"
    }
   },
   "outputs": [],
   "source": [
    "env = cn.simulate_biodiv_env(sim_file,\n",
    "                             dispersal_rate=0.3,\n",
    "                             climate_mode=3,\n",
    "                             disturbance_mode=8)"
   ]
  },
  {
   "cell_type": "markdown",
   "metadata": {},
   "source": [
    "Dispersal rates can be provided as a single value, identical for all species, or as an array of values (for species-specific rates). Different models of climate change and changes in disturbance can be selected using the arguments `climate_mode` and `disturbance_mode`."
   ]
  },
  {
   "cell_type": "markdown",
   "metadata": {},
   "source": [
    "### Plotting the current state of the environment\n",
    "The environment can be plotted to visualize a number of properties of the system, including:\n",
    "1. a map of species richness\n",
    "2. a map of population density\n",
    "3. the species phylogeny\n",
    "4. a rank-abundance plot\n",
    "5. maps of climate and disturbance spatial patterns\n",
    "6. species ranges\n",
    "\n",
    "The plots are generated using the function below and are saved in the specified working directory (argument `wd`) as a single PDF file."
   ]
  },
  {
   "cell_type": "code",
   "execution_count": null,
   "metadata": {
    "pycharm": {
     "name": "#%%\n"
    }
   },
   "outputs": [],
   "source": [
    "cn.plot_env_state(env, wd='.')"
   ]
  },
  {
   "cell_type": "markdown",
   "metadata": {},
   "source": [
    "### Simulating the evolution of a system\n",
    "We can simulate the evolution of a system for an arbitrary number of time steps. At each step there will be some level of natural mortality of individuals with replacement and dispersal events determined by the dispersal rate. The system will be also affected by changes in climate and anthropogenic disturbance based on the models specified when setting up the environment (see above).\n",
    "We can let the system evolve for a number of steps, e.g. `n_steps = 15` in a simple for loop:"
   ]
  },
  {
   "cell_type": "code",
   "execution_count": null,
   "metadata": {
    "pycharm": {
     "name": "#%%\n"
    }
   },
   "outputs": [],
   "source": [
    "n_steps = 15\n",
    "for i in range(n_steps):\n",
    "    res = env.step()"
   ]
  },
  {
   "cell_type": "markdown",
   "metadata": {},
   "source": [
    "where `res` contains various summary information about the state of the system. Note that, as we did not specify a conservation policy,\n",
    "\n",
    "We can now visualize how the system has changed after these steps by plotting it using the `plot_env_state()` function shown before. The plots are saved in a single PDF file with a file name that includes the current step number, so that the environment can be plotted at different steps to capture the evolution of the system."
   ]
  },
  {
   "cell_type": "code",
   "execution_count": null,
   "metadata": {
    "pycharm": {
     "name": "#%%\n"
    }
   },
   "outputs": [],
   "source": [
    "cn.plot_env_state(env, wd='.')"
   ]
  },
  {
   "cell_type": "markdown",
   "metadata": {},
   "source": [
    "## Initializing simulated datasets for model training and predictions\n",
    "\n",
    "Because the initialization of natural systems can be time-consuming and since multiple systems are typically used for model optimization and predictions, it is useful to generate and store a number of them so that they can be used in different analyses.  \n",
    "This can be done in a simple for loop (these settings are the ones use to generate these datasets are available for [download](https://zenodo.org/api/files/c4663248-5dc2-4932-9d43-ec0c490595ae/data_dependencies.zip?versionId=d29260c1-7449-4075-aa83-6e32e5f0db7e)):"
   ]
  },
  {
   "cell_type": "code",
   "execution_count": null,
   "metadata": {
    "pycharm": {
     "name": "#%%\n"
    }
   },
   "outputs": [],
   "source": [
    "n_datasets = 100\n",
    "path_to_sim_data = 'data_dependencies'\n",
    "\n",
    "for i in range(n_datasets):\n",
    "    _ = cn.init_simulated_system(n_species=500,\n",
    "                                 grid_size=50,\n",
    "                                 cell_capacity=1000,\n",
    "                                 out_dir = path_to_sim_data,\n",
    "                                 seed=1000+i)"
   ]
  },
  {
   "cell_type": "markdown",
   "metadata": {},
   "source": [
    "By specifying the random seed we ensure that 1) the simulations are replicable and 2) they are stored each in a different file, as the seed is part of the file name."
   ]
  }
 ],
 "metadata": {
  "kernelspec": {
   "display_name": "Python 3 (ipykernel)",
   "language": "python",
   "name": "python3"
  },
  "language_info": {
   "codemirror_mode": {
    "name": "ipython",
    "version": 3
   },
   "file_extension": ".py",
   "mimetype": "text/x-python",
   "name": "python",
   "nbconvert_exporter": "python",
   "pygments_lexer": "ipython3",
   "version": "3.8.3"
  }
 },
 "nbformat": 4,
 "nbformat_minor": 1
}
