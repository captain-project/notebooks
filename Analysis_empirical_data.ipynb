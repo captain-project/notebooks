{
 "cells": [
  {
   "cell_type": "markdown",
   "metadata": {},
   "source": [
    "# CAPTAIN tutorial – Conservation planning on empirical data\n",
    "\n",
    "** - NOTE: The latest developments are currently available in the [dev branch of captain](https://github.com/captain-project/captain-project/tree/dev). - **\n",
    "\n",
    "## Building the environment using Marxan-formatted CSV files.\n",
    "The following examples show how to setup a CAPTAIN analysis to optimize the placement of protection units (PUs).\n",
    "The empirical dataset analyzed here is from the paper by [Carrasco et al. 2020](https://link.springer.com/article/10.1007/s10531-020-01947-1) and includes the predicted distribution for ~1500 species of endemic trees in Madagascar across 22,000 potential PUs and a quantification of the disturbance or threat to species across PUs. The files are available [here](https://zenodo.org/api/files/c4663248-5dc2-4932-9d43-ec0c490595ae/empirical_data.zip) contain comma-separated values (CSV) and were formatted to be compatible with the program [Marxan](https://marxansolutions.org).\n",
    "\n",
    "In CAPTAIN we use these files to initialize an environment, over which we can then apply a pre-trained model to predict areas of priority for conservation.\n",
    "This is done using the `build_empirical_env()` function and passing 4 arguments:\n",
    "1. the working directory where all files are stored\n",
    "2. a CSV table containing species distribution data: this has three columns: a species identifier, a PU identifier, and the abundance of the species in the PU. For each PU there is one entry for each of the species found (or predicted through e.g. niche modeling) in it. In the example here we have only species presence/absence, so the abundance column will only have values of 0 and 1.\n",
    "3. a CSV table with the cost of protection listed for each PU. This can be a relative cost (i.e. indicating the relative difference in cost among PUs) and by default is assumed to be proportional to the anthropogenic disturbance on the PU.\n",
    "4. a CSV file with the coordinates of the mid-point of each PU. this is currently only used for plotting."
   ]
  },
  {
   "cell_type": "code",
   "execution_count": null,
   "metadata": {
    "pycharm": {
     "name": "#%%\n"
    }
   },
   "outputs": [],
   "source": [
    "import os\n",
    "os.chdir(\"path_to_captain_library\")\n",
    "import captain as cn\n",
    "\n",
    "wd = 'empirical_data/'\n",
    "puvsp_file = 'puvsp.csv'\n",
    "pu_file = 'pu.csv'\n",
    "pu_info_file = 'Planning_Units.csv'\n",
    "\n",
    "# build env\n",
    "env = cn.build_empirical_env(wd=wd,\n",
    "                             puvsp_file=puvsp_file,\n",
    "                             pu_file=pu_file,\n",
    "                             pu_info_file=pu_info_file)"
   ]
  },
  {
   "cell_type": "markdown",
   "metadata": {},
   "source": [
    "\n",
    "The function also automatically produces two captain-formatted files that allow for a quicker reloading of the environment. The environment can now be rapidly re-loaded if needed, using these captain-formatted files, as shown below:"
   ]
  },
  {
   "cell_type": "code",
   "execution_count": null,
   "metadata": {
    "pycharm": {
     "name": "#%%\n"
    }
   },
   "outputs": [],
   "source": [
    "# fast loading files\n",
    "puvsp_file = 'puvsp.csv'\n",
    "pu_file = 'pu.csv'\n",
    "pu_info_file = 'Planning_Units.csv'\n",
    "\n",
    "hist_file = 'hist.npy' # species distribution data\n",
    "puid_file = 'pu_id.npy' # PU identifiers\n",
    "spid_file = 'sp_id.npy' # Species identifiers\n",
    "\n",
    "# build env\n",
    "env = cn.build_empirical_env(wd=wd,\n",
    "                             hist_file=hist_file,\n",
    "                             puid_file=puid_file,\n",
    "                             spid_file=spid_file,\n",
    "                             pu_file=pu_file,\n",
    "                             pu_info_file=pu_info_file)"
   ]
  },
  {
   "cell_type": "markdown",
   "metadata": {},
   "source": [
    "## Running an optimized policy on the empirical environment.\n",
    "We can now use the loaded environment to apply a pre-trained model and perform a conservation planning experiment and predict areas of highest conservation priority\n",
    "The model was trained based on simulated datasets using the following settings\n",
    "\n",
    "```python\n",
    "cn.train_model(obsMode=1, # full species monitoring\n",
    "               observePolicy=2, # recurrent monitoring, at-once protection\n",
    "               start_protecting=3, # system is monitored for 3 steps before placing protection units\n",
    "               rewardMode=0,  # objective: minimize species loss\n",
    "               disturbance=4,\n",
    "               n_nodes=[8, 0],\n",
    "               budget=0.11,\n",
    "               batchSize=6,\n",
    "               steps=25,\n",
    "               epochs=1000)\n",
    "```\n",
    "\n",
    "The policy run in with an empirical dataset can be constrained by a budget and guided by a conservation target defining the fraction of the species range that should be protected to consider the species as effectively protected. This protection target can be specified as a single value (e.g. `protection_target=0.1` indicates that 10% of the range should be protected for each species) or as a vector of values (of length equal to the number of species in the system) to apply a species-specific conservation target.\n",
    "\n",
    "The budget is specified as a fraction of the total cost of all PUs. For instance, with `budget=0.1` a maximum of 10% of all PUs can be protected (fewer PUs will be protected if PUs with higher cost are selected).\n",
    "\n",
    "The `update_features` specifies how frequently the features should be extracted from the system. Ideally, this is done at each step (`update_features=1`) but, to speed up the run, approximate solutions can be obtained performing this step e.g. every 10 or 100 steps.\n",
    "\n",
    "The seed specifies how to initialize the random number generators making the analysis fully reproducible. In particular, each analysis assigns random sensitivities to the species in the system, which affect their probability of occurring in areas with anthropogenic disturbance. If an empirical estimate of species sensitivity exists, this can be used in setting up the system with the function `build_empirical_env`, using the argument `species_sensitivities=a`, where `a` is an array of length equal to the number of species and with values ranging from 0 (lowest sensitivity) to 1 (highest sensitivity). "
   ]
  },
  {
   "cell_type": "code",
   "execution_count": null,
   "metadata": {
    "pycharm": {
     "name": "#%%\n"
    }
   },
   "outputs": [],
   "source": [
    "trained_model_file = 'trained_models/full_monitor_protect_at_once_d4_n8-0.log'\n",
    "\n",
    "output_file = 'output'\n",
    "\n",
    "env, out_file = cn.run_policy_empirical(env,\n",
    "                                        trained_model=trained_model_file,\n",
    "                                        obsMode=1, # full species monitoring\n",
    "                                        observePolicy=2, # recurrent monitoring, at-once protection\n",
    "                                        n_nodes=[8, 0],\n",
    "                                        budget=0.1,\n",
    "                                        protection_target=0.1,\n",
    "                                        stop_at_end_budget=True,\n",
    "                                        seed=4321,\n",
    "                                        update_features=10,\n",
    "                                        wd=wd,\n",
    "                                        result_file=output_file)"
   ]
  },
  {
   "cell_type": "markdown",
   "metadata": {
    "pycharm": {
     "name": "#%% md\n"
    }
   },
   "source": [
    "The result of this analysis is stored in a pickle file containing the environment at the last step of the policy implementation. The function returns the updated empirical environment and the name of the pickle file storing it. \n",
    "\n",
    "The `run_policy_empirical` function also implements an option to run multiple replicates in which the system is initialized based on different random seeds.  These can be used to average the results across replicates to account for uncertainties around species ranges and species-specific sensitivities."
   ]
  },
  {
   "cell_type": "code",
   "execution_count": null,
   "metadata": {},
   "outputs": [],
   "source": [
    "env_list, out_files = cn.run_policy_empirical(env,\n",
    "                                              trained_model=trained_model_file,\n",
    "                                              obsMode=1, # full species monitoring\n",
    "                                              observePolicy=2, # recurrent monitoring, at-once protection\n",
    "                                              n_nodes=[8, 0],\n",
    "                                              budget=0.1,\n",
    "                                              protection_target=0.1,\n",
    "                                              stop_at_end_budget=True,\n",
    "                                              seed=4321,\n",
    "                                              update_features=100,\n",
    "                                              result_file=output_file,\n",
    "                                              replicates=6)"
   ]
  },
  {
   "cell_type": "markdown",
   "metadata": {},
   "source": [
    "This command runs 6 simulations automatically applying different random seeds in each replicate. "
   ]
  },
  {
   "cell_type": "markdown",
   "metadata": {},
   "source": [
    "## Setting conservation target using the ConservationTarget class\n",
    "\n",
    "The options below are currently available in the [dev branch of captain](https://github.com/captain-project/captain-project/tree/dev). After setting up the environment as shown above create an object of class ConservationTarget. One of the options is to specify the fraction of species range to be protected. This can be either a single number (between 0 and 1) in which case the same fraction is applied to all species (10% in the example below), or an array of values specifying the protection range for each species. "
   ]
  },
  {
   "cell_type": "code",
   "execution_count": null,
   "metadata": {},
   "outputs": [],
   "source": [
    "protect_fraction = 0.1\n",
    "conservation_target = cn.FractionConservationTarget(protect_fraction=protect_fraction)\n",
    "\n",
    "# plot the fraction of species range targeted for protection as a function of species range (in this case constant)\n",
    "cn.plot_target(conservation_target,\n",
    "               env.bioDivGrid.geoRangePerSpecies())"
   ]
  },
  {
   "cell_type": "markdown",
   "metadata": {},
   "source": [
    "Another available option is to make the target a function of species range size, specifically aiminig to protect a larger fraction of the range in species with small range and a smaller fraction in widespread species. This can be achieved using the RangeConservationTarget class to specify the minimum fraction of targeted range (applied to species with the largest range; flag `min_fr`) and the maximum fraction (applied to species with the smallest range; flag `max_fr`). The target can be further truncated to a maximum number of protection units regardless of the species range size (flag `max_range`).  "
   ]
  },
  {
   "cell_type": "code",
   "execution_count": null,
   "metadata": {},
   "outputs": [],
   "source": [
    "conservation_target = cn.RangeConservationTarget(min_fr=0.01, max_fr=1, max_range=250)\n",
    "\n",
    "# plot the fraction of species range targeted for protection as a function of species range\n",
    "cn.plot_target(conservation_target,\n",
    "               env.bioDivGrid.geoRangePerSpecies())"
   ]
  },
  {
   "cell_type": "markdown",
   "metadata": {},
   "source": [
    "The conservation target can be applied when running an optimized conservation policy. "
   ]
  },
  {
   "cell_type": "code",
   "execution_count": null,
   "metadata": {},
   "outputs": [],
   "source": [
    "trained_model_file ='trained_models/full_monitor_protect_at_once_d4_n8-0.log'\n",
    "\n",
    "env_list, out_files = cn.run_policy_empirical(env,\n",
    "                                              trained_model=trained_model_file,\n",
    "                                              obsMode=1, # full species monitoring\n",
    "                                              observePolicy=2, # recurrent monitoring, at-once protection\n",
    "                                              n_nodes=[8, 0],\n",
    "                                              budget=0.1,\n",
    "                                              conservation_target=conservation_target, # apply conservation target\n",
    "                                              stop_at_end_budget=True,\n",
    "                                              seed=4321,\n",
    "                                              update_features=100,\n",
    "                                              result_file='output',\n",
    "                                              replicates=1)"
   ]
  },
  {
   "source": [
    "## Summarizing the results \n",
    "\n",
    "After running the policy (one or multiple replicates), the results can be summarized using the `summarize_policy_empirical` function. This returns a Pandas DataFrame with the protection unit ID (`PUID`), the geographic coordinates if available, and the Priority, i.e. whether the PU was selected for protection and, in the case of multiple replicates the frequency at which is was selected. "
   ],
   "cell_type": "markdown",
   "metadata": {}
  },
  {
   "cell_type": "code",
   "execution_count": null,
   "metadata": {},
   "outputs": [],
   "source": [
    "summary_res = cn.summarize_policy_empirical(env_list)\n"
   ]
  },
  {
   "source": [
    "```\n",
    ">>> summary_res\n",
    "\n",
    "Out[5]: \n",
    "          PUID  Longitude   Latitude  Priority\n",
    "0          2.0  45.157739 -25.581437       0.0\n",
    "1          3.0  45.203964 -25.581787       0.2\n",
    "2          4.0  45.252969 -25.576135       0.0\n",
    "3         13.0  45.155287 -25.538333       0.0\n",
    "4         14.0  45.204793 -25.538487       0.1\n",
    "        ...        ...        ...       ...\n",
    "22389  24453.0  49.319646 -12.084831       0.0\n",
    "22390  24457.0  49.228681 -12.041302       0.0\n",
    "22391  24458.0  49.273839 -12.039891       0.0\n",
    "22392  24459.0  49.308632 -12.041443       0.0\n",
    "22393  24462.0  49.273049 -11.994844       0.1\n",
    "\n",
    "[22394 rows x 4 columns]\n",
    "\n",
    "```"
   ],
   "cell_type": "markdown",
   "metadata": {}
  }
 ],
 "metadata": {
  "kernelspec": {
   "display_name": "Python 3 (ipykernel)",
   "language": "python",
   "name": "python3"
  },
  "language_info": {
   "codemirror_mode": {
    "name": "ipython",
    "version": 3
   },
   "file_extension": ".py",
   "mimetype": "text/x-python",
   "name": "python",
   "nbconvert_exporter": "python",
   "pygments_lexer": "ipython3",
   "version": "3.8.3"
  }
 },
 "nbformat": 4,
 "nbformat_minor": 1
}